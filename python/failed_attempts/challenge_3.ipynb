{
 "cells": [
  {
   "cell_type": "markdown",
   "metadata": {},
   "source": [
    "# Bill Cobb's Vehicle Dynamics Professionals' July 2024 Challenge - #3\n",
    "\n",
    "Given the results of a constant radius understeer test and various speed increments, compute the understeer gradient and cornering compliance evolution with lateral acceleration. The vehicle is a generic car with non-linear steering and non-linear tires simulated with Bill Cobb's BZ3 simulation program.\n"
   ]
  },
  {
   "cell_type": "code",
   "execution_count": null,
   "metadata": {},
   "outputs": [],
   "source": [
    "%matplotlib widget"
   ]
  },
  {
   "cell_type": "code",
   "execution_count": null,
   "metadata": {},
   "outputs": [],
   "source": [
    "import matplotlib.pyplot as plt\n",
    "import numpy as np\n",
    "import polars as pl\n",
    "import scipy as sp"
   ]
  },
  {
   "cell_type": "code",
   "execution_count": null,
   "metadata": {},
   "outputs": [],
   "source": [
    "plt.style.use(\"seaborn-v0_8\")"
   ]
  },
  {
   "cell_type": "markdown",
   "metadata": {},
   "source": [
    "## Part 1: Define constants\n",
    "\n",
    "We are given known quantities of the vehicle under test. Define them as constants.\n"
   ]
  },
  {
   "cell_type": "code",
   "execution_count": null,
   "metadata": {},
   "outputs": [],
   "source": [
    "VEHICLE_WB = 2.745  # m\n",
    "VEHICLE_SR = 20.0  # rad/rad\n",
    "VEHICLE_WF = 1000  # kg\n",
    "VEHICLE_WR = 600  # kg\n",
    "VEHICLE_M = VEHICLE_WF + VEHICLE_WR\n",
    "VEHICLE_LA = VEHICLE_WB * (VEHICLE_WR / VEHICLE_M)\n",
    "VEHICLE_LB = VEHICLE_WB * (VEHICLE_WF / VEHICLE_M)"
   ]
  },
  {
   "cell_type": "markdown",
   "metadata": {},
   "source": [
    "Use constants for column header names to make it easier to access.\n"
   ]
  },
  {
   "cell_type": "code",
   "execution_count": null,
   "metadata": {},
   "outputs": [],
   "source": [
    "# Provided columns\n",
    "COLUMN_TIME = \"TIME, sec\"\n",
    "COLUMN_LATACC = \"LATACC, g\"\n",
    "COLUMN_RUN = \"RUN, RUN\"\n",
    "COLUMN_BETA = \"SIDSLP, deg\"\n",
    "COLUMN_SPEED = \"SPEED, kph\"\n",
    "COLUMN_STEER = \"STEER, deg\"\n",
    "COLUMN_YAWVEL = \"YAWVEL, deg/sec\"\n",
    "\n",
    "# Computed time domain columns\n",
    "COLUMN_LATACC_SI = \"LATACC, m/s^2\"\n",
    "COLUMN_BETA_SI = \"BETA, rad\"\n",
    "COLUMN_SPEED_SI = \"SPEED, m/s\"\n",
    "COLUMN_STEER_SI = \"STEER, rad\"\n",
    "COLUMN_DELTA_SI = \"DELTA, rad\"\n",
    "COLUMN_YAWVEL_SI = \"YAWVEL, rad/sec\"\n",
    "\n",
    "# Math channels\n",
    "COLUMN_DELTA = \"DELTA, rad\"\n",
    "COLUMN_BETA_GAIN = \"BETAGAIN, rad/rad\"\n",
    "COLUMN_YAWVEL_GAIN = \"YAWVELGAIN, rad/s/rad\"\n",
    "COLUMN_DF = \"DF, rad/G\"\n",
    "COLUMN_DR = \"DR, rad/G\"\n",
    "COLUMN_USG = \"USG, rad/G\""
   ]
  },
  {
   "cell_type": "markdown",
   "metadata": {},
   "source": [
    "Define common conversion factors.\n"
   ]
  },
  {
   "cell_type": "code",
   "execution_count": null,
   "metadata": {},
   "outputs": [],
   "source": [
    "STD_G = 9.81\n",
    "DEG2RAD = np.pi / 180.0\n",
    "RAD2DEG = 1 / DEG2RAD\n",
    "KPH2MPS = 1000 / 3600.0\n",
    "MPS2KPH = 1 / RAD2DEG"
   ]
  },
  {
   "cell_type": "markdown",
   "metadata": {},
   "source": [
    "## Part 1: Data Wrangling\n"
   ]
  },
  {
   "cell_type": "markdown",
   "metadata": {},
   "source": [
    "### Load in the data\n"
   ]
  },
  {
   "cell_type": "markdown",
   "metadata": {},
   "source": [
    "Read in the data and sanitize it for consumption. The data has the following form:\n",
    "\n",
    "| Row number | Description                                                                       | Sample                                                                                                                                                                                                                                                                                                                                                                                                                                  |\n",
    "| ---------- | --------------------------------------------------------------------------------- | --------------------------------------------------------------------------------------------------------------------------------------------------------------------------------------------------------------------------------------------------------------------------------------------------------------------------------------------------------------------------------------------------------------------------------------- |\n",
    "| Line 1     | Comment header describing the contents of the CSV and relevant vehicle parameters | `\"BZ3 Nonlinear Vehicle Dynamics Simulation SR= 20.00 WB=2745 mm  SR=20.00  WF=1000  WR=600\"`                                                                                                                                                                                                                                                                                                                                           |\n",
    "| Line 2     | Column header names and units                                                     | `\"TIME, sec\";\"LATACC, g\";\"RUN, RUN\";\"SIDSLP, deg\";\"SPEED, kph\";\"STEER, deg\";\"YAWVEL, deg/sec\";                                                                                                                                                                                                                                                                                                                                       ;` |\n",
    "| Line 3+    | Time series data                                                                  | `1.080    ;0.412    ;14.000   ;-0.498   ;85.000   ;32.611   ;9.702     `                                                                                                                                                                                                                                                                                                                                                                |\n"
   ]
  },
  {
   "cell_type": "code",
   "execution_count": null,
   "metadata": {},
   "outputs": [],
   "source": [
    "FILE_PATH = \"../../data/marc3.txt\""
   ]
  },
  {
   "cell_type": "code",
   "execution_count": null,
   "metadata": {},
   "outputs": [],
   "source": [
    "df = pl.read_csv(FILE_PATH, skip_rows=1, columns=range(7), separator=\";\").with_columns(\n",
    "    pl.col(\"*\").str.extract(r\"(^-?\\d+[.\\d]*)\").str.to_decimal()\n",
    ")\n",
    "df"
   ]
  },
  {
   "cell_type": "markdown",
   "metadata": {},
   "source": [
    "### Convert to SI units\n",
    "\n",
    "Perform all calculations in SI units.\n"
   ]
  },
  {
   "cell_type": "code",
   "execution_count": null,
   "metadata": {},
   "outputs": [],
   "source": [
    "df = df.with_columns(\n",
    "    (pl.col(COLUMN_LATACC).cast(pl.Float32) * STD_G).alias(COLUMN_LATACC_SI),\n",
    "    (pl.col(COLUMN_BETA).cast(pl.Float32) * DEG2RAD).alias(COLUMN_BETA_SI),\n",
    "    (pl.col(COLUMN_SPEED).cast(pl.Float32) * KPH2MPS).alias(COLUMN_SPEED_SI),\n",
    "    (pl.col(COLUMN_STEER).cast(pl.Float32) * DEG2RAD).alias(COLUMN_STEER_SI),\n",
    "    (pl.col(COLUMN_YAWVEL).cast(pl.Float32) * DEG2RAD).alias(COLUMN_YAWVEL_SI),\n",
    "    (pl.col(COLUMN_STEER).cast(pl.Float32) * DEG2RAD / VEHICLE_SR).alias(COLUMN_DELTA),\n",
    ")\n",
    "df"
   ]
  },
  {
   "cell_type": "markdown",
   "metadata": {},
   "source": [
    "### Visualize provided data\n",
    "\n",
    "Plot the timeseries to see what we are working with.\n"
   ]
  },
  {
   "cell_type": "code",
   "execution_count": null,
   "metadata": {},
   "outputs": [],
   "source": [
    "fig, axes = plt.subplots(5, 1, sharex=True)\n",
    "\n",
    "# Plot\n",
    "columns = [COLUMN_SPEED, COLUMN_STEER, COLUMN_BETA, COLUMN_LATACC, COLUMN_YAWVEL]\n",
    "for ax, col in zip(axes, columns):\n",
    "    for name, data in df.group_by(COLUMN_RUN):\n",
    "        ax.plot(data[COLUMN_TIME], data[col], label=f\"Run {name}\")\n",
    "    ax.set_ylabel(col)\n",
    "\n",
    "# Labels\n",
    "axes[-1].set_xlabel(COLUMN_TIME)\n",
    "\n",
    "# Title\n",
    "fig.suptitle(\n",
    "    \"Bill Cobb's Vehicle Dynamics Professionals' Challenge #3\\nOn centre chirp steer frequency response test data\"\n",
    ")\n",
    "\n",
    "plt.tight_layout()\n",
    "plt.show()"
   ]
  },
  {
   "cell_type": "markdown",
   "metadata": {},
   "source": [
    "## Part 2: Data exploration\n",
    "\n",
    "Given that this is a constant radius test, what is the radius of the skidpad?\n"
   ]
  },
  {
   "cell_type": "markdown",
   "metadata": {},
   "source": [
    "### Extract the steady-state response from each run and compute gain\n"
   ]
  },
  {
   "cell_type": "code",
   "execution_count": null,
   "metadata": {},
   "outputs": [],
   "source": [
    "# Steady-state dataframe (sdf)\n",
    "sdf = df.group_by(COLUMN_RUN).tail(1).sort(by=COLUMN_RUN)\n",
    "\n",
    "sdf = sdf.with_columns(\n",
    "    (pl.col(COLUMN_BETA_SI) / pl.col(COLUMN_DELTA)).alias(COLUMN_BETA_GAIN),\n",
    "    (pl.col(COLUMN_YAWVEL_SI) / pl.col(COLUMN_DELTA)).alias(COLUMN_YAWVEL_GAIN),\n",
    ")\n",
    "sdf"
   ]
  },
  {
   "cell_type": "markdown",
   "metadata": {},
   "source": [
    "## Part 3: Understeer Gradient and Cornering Compliance\n",
    "\n",
    "**Approach 1**: The approach employed by Cobb is to compute the gradients\n",
    "$\\frac{d\\delta}{da_y}$ and $\\frac{d\\beta}{da_y}$ which represent the understeer\n",
    "gradient and rear cornering compliance.\n",
    "\n",
    "**Approach 2**: Exploit knowledge of the steady-state gain of the sideslip by\n",
    "steer and yaw rate by steer transfer function to derive $D_f$ and $D_r$.\n",
    "\n",
    "WARNING. This does not work as it assumes the vehicle is linear across it's\n",
    "operating region.\n",
    "\n",
    "Recall that the steady-state gain for the sideslip by steer response is a follows.\n",
    "\n",
    "$$\\frac{\\beta(0)}{\\delta(0)} = \\frac{a_0}{b_0} = \\quad \\frac{g l_{a} l_{b} m \\left(- D_{r} u^{2} + g l_{b}\\right)}{D_{f} D_{r} I u^{2} \\left(l_{a} + l_{b}\\right)} \\cdot \\frac{ D_{f} D_{r} I u^{2} \\left(l_{a} + l_{b}\\right)}{\\left(g l_{a} l_{b} m\\right) \\left(D_{f} u^{2} - D_{r} u^{2} + g l_{a} + g l_{b}\\right)}$$\n",
    "$$\\frac{\\beta(0)}{\\delta(0)} = \\frac{- D_{r} u^{2} + g l_{b}}{D_{f} u^{2} - D_{r} u^{2} + g l_{a} + g l_{b}}$$\n",
    "\n",
    "For the yaw rate by steer response.\n",
    "\n",
    "$$\\frac{R(0)}{\\delta(0)} = \\quad \\frac{g^2 l_{a} l_{b} m }{D_{f} D_{r} I u \\left(l_{a} + l_{b}\\right)} \\cdot \\frac{D_{f} D_{r} I u^{2} \\left(l_{a} + l_{b}\\right)}{\\left(g l_{a} l_{b} m\\right) \\left(D_{f} u^{2} - D_{r} u^{2} + g l_{a} + g l_{b}\\right)}$$\n",
    "$$\\frac{R(0)}{\\delta(0)} = \\frac{g u}{D_{f} u^{2} - D_{r} u^{2} + g l_{a} + g l_{b}}$$\n",
    "\n",
    "Given two equations and two unknowns.\n",
    "\n",
    "$$AX = B$$\n",
    "\n",
    "$$\n",
    "\\begin{bmatrix}\n",
    "\\frac{\\beta(0)}{\\delta(0)} u^2 & (1 - \\frac{\\beta(0)}{\\delta(0)}) u^2 \\\\\n",
    "\\frac{R(0)}{\\delta(0)} u^2 & -\\frac{R(0)}{\\delta(0)} u^2\n",
    "\\end{bmatrix}\n",
    "\\begin{bmatrix}\n",
    "D_f \\\\\n",
    "D_r\n",
    "\\end{bmatrix}\n",
    "=\n",
    "\\begin{bmatrix}\n",
    "g \\left(l_b - \\frac{\\beta(0)}{\\delta(0)}\\left(l_a + l_b \\right)\\right) \\\\\n",
    "g \\left(u - \\frac{R(0)}{\\delta(0)} \\left( l_a + l_b \\right)  \\right)\n",
    "\\end{bmatrix}\n",
    "$$\n",
    "\n",
    "Solve for unknowns $[D_f, D_r]^T$.\n",
    "\n",
    "$$X = A^{-1}B$$\n",
    "\n",
    "$$\n",
    "\\begin{bmatrix}\n",
    "D_f \\\\\n",
    "D_r\n",
    "\\end{bmatrix}\n",
    "=\n",
    "\\begin{bmatrix}\n",
    "\\frac{1}{u^2} & \\frac{1 - \\frac{\\beta(0)}{\\delta(0)}}{\\frac{R(0)}{\\delta(0)} u^2} \\\\\n",
    "\\frac{1}{u^2} & - \\frac{\\frac{\\beta(0)}{\\delta(0)}}{\\frac{R(0)}{\\delta(0)} u^2}\n",
    "\\end{bmatrix}\n",
    "\\begin{bmatrix}\n",
    "g \\left(l_b - \\frac{\\beta(0)}{\\delta(0)}\\left(l_a + l_b \\right)\\right) \\\\\n",
    "g \\left(u - \\frac{R(0)}{\\delta(0)} \\left( l_a + l_b \\right)  \\right)\n",
    "\\end{bmatrix}\n",
    "$$\n",
    "\n",
    "$$\n",
    "\\begin{bmatrix}\n",
    "D_f \\\\\n",
    "D_r\n",
    "\\end{bmatrix}\n",
    "=\n",
    "\\begin{bmatrix}\n",
    "\\frac{g(-\\frac{\\beta(0)}{\\delta(0)}u - \\frac{R(0)}{\\delta(0)}l_a + u)}{\\frac{R(0)}{\\delta(0)} u^2} \\\\\n",
    "\\frac{g(-\\frac{\\beta(0)}{\\delta(0)}u + \\frac{R(0)}{\\delta(0)l_b})}{\\frac{R(0)}{\\delta(0)} u^2}\n",
    "\\end{bmatrix}\n",
    "$$\n",
    "\n",
    "The understeer gradient is the difference between front and rear cornering compliance.\n",
    "\n",
    "$$ K = D_f - D_r $$\n"
   ]
  },
  {
   "cell_type": "markdown",
   "metadata": {},
   "source": [
    "### Calculate $D_f$, $D_r$, and $K$\n"
   ]
  },
  {
   "cell_type": "code",
   "execution_count": null,
   "metadata": {},
   "outputs": [],
   "source": [
    "sdf = sdf.with_columns(\n",
    "    (\n",
    "        (\n",
    "            STD_G\n",
    "            * (\n",
    "                -pl.col(COLUMN_BETA_GAIN) * pl.col(COLUMN_SPEED_SI)\n",
    "                - pl.col(COLUMN_YAWVEL_GAIN) * VEHICLE_LA\n",
    "                + pl.col(COLUMN_SPEED_SI)\n",
    "            )\n",
    "        )\n",
    "        / (pl.col(COLUMN_YAWVEL_GAIN) * pl.col(COLUMN_SPEED_SI) ** 2)\n",
    "    ).alias(COLUMN_DF),\n",
    "    (\n",
    "        (\n",
    "            STD_G\n",
    "            * (\n",
    "                -pl.col(COLUMN_BETA_GAIN) * pl.col(COLUMN_SPEED_SI)\n",
    "                + pl.col(COLUMN_YAWVEL_GAIN) * VEHICLE_LB\n",
    "            )\n",
    "        )\n",
    "        / (pl.col(COLUMN_YAWVEL_GAIN) * pl.col(COLUMN_SPEED_SI) ** 2)\n",
    "    ).alias(COLUMN_DR),\n",
    ")"
   ]
  },
  {
   "cell_type": "code",
   "execution_count": null,
   "metadata": {},
   "outputs": [],
   "source": [
    "sdf = sdf.with_columns((pl.col(COLUMN_DF) - pl.col(COLUMN_DR)).alias(COLUMN_USG))\n",
    "sdf"
   ]
  },
  {
   "cell_type": "markdown",
   "metadata": {},
   "source": [
    "## Part 4: Visualize the results\n"
   ]
  },
  {
   "cell_type": "code",
   "execution_count": null,
   "metadata": {},
   "outputs": [],
   "source": [
    "fig, ax = plt.subplots()\n",
    "\n",
    "ax.plot(\n",
    "    sdf[COLUMN_LATACC], sdf[COLUMN_USG, COLUMN_DF, COLUMN_DR] * RAD2DEG, marker=\"o\", label=[r\"USG, $K$ [deg/G]\", r\"$D_f$ [deg/G]\", r\"$D_r$ [deg/G]\"]\n",
    ")\n",
    "ax.set_xlabel(\"Lateral Acceleration [g]\")\n",
    "ax.set_ylabel(\"Cornering Compliance & Understeer Gradient [deg/G]\")\n",
    "ax.set_ylim(bottom=-1.5, top=10.5)\n",
    "\n",
    "plt.suptitle(\n",
    "    r\"$\\mathbf{Bill\\ Cobb's\\ Vehicle\\ Dynamics\\ Professionals'\\ Challenge\\ \\#3}$\"\n",
    "    + \"\\n\"\n",
    "    + \"Constant radius variable speed understeer gradient test\"\n",
    ")\n",
    "\n",
    "fig.tight_layout()\n",
    "plt.show()"
   ]
  }
 ],
 "metadata": {
  "kernelspec": {
   "display_name": "venv",
   "language": "python",
   "name": "python3"
  },
  "language_info": {
   "codemirror_mode": {
    "name": "ipython",
    "version": 3
   },
   "file_extension": ".py",
   "mimetype": "text/x-python",
   "name": "python",
   "nbconvert_exporter": "python",
   "pygments_lexer": "ipython3",
   "version": "3.12.1"
  }
 },
 "nbformat": 4,
 "nbformat_minor": 2
}
